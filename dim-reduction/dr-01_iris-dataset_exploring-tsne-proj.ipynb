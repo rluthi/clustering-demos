{
 "cells": [
  {
   "cell_type": "markdown",
   "metadata": {},
   "source": [
    "# Iris dataset example"
   ]
  },
  {
   "cell_type": "code",
   "execution_count": 1,
   "metadata": {},
   "outputs": [],
   "source": [
    "import pandas as pd\n",
    "from sklearn.manifold import TSNE as sklearn_TSNE\n",
    "import huddles"
   ]
  },
  {
   "cell_type": "markdown",
   "metadata": {},
   "source": [
    "## Load the data\n",
    "Source: https://www.kaggle.com/datasets/uciml/iris"
   ]
  },
  {
   "cell_type": "code",
   "execution_count": 4,
   "metadata": {},
   "outputs": [],
   "source": [
    "full_data = pd.read_csv(\"../datasets/Iris.csv\").drop([\"Id\"], axis=1)\n",
    "input_data = full_data.copy(deep=True).drop([\"Species\"], axis=1)\n",
    "targets = full_data.copy(deep=True)[\"Species\"]"
   ]
  },
  {
   "cell_type": "code",
   "execution_count": 5,
   "metadata": {},
   "outputs": [
    {
     "name": "stdout",
     "output_type": "stream",
     "text": [
      "Shape of the data: (150, 4)\n"
     ]
    },
    {
     "data": {
      "text/html": [
       "<div>\n",
       "<style scoped>\n",
       "    .dataframe tbody tr th:only-of-type {\n",
       "        vertical-align: middle;\n",
       "    }\n",
       "\n",
       "    .dataframe tbody tr th {\n",
       "        vertical-align: top;\n",
       "    }\n",
       "\n",
       "    .dataframe thead th {\n",
       "        text-align: right;\n",
       "    }\n",
       "</style>\n",
       "<table border=\"1\" class=\"dataframe\">\n",
       "  <thead>\n",
       "    <tr style=\"text-align: right;\">\n",
       "      <th></th>\n",
       "      <th>SepalLengthCm</th>\n",
       "      <th>SepalWidthCm</th>\n",
       "      <th>PetalLengthCm</th>\n",
       "      <th>PetalWidthCm</th>\n",
       "    </tr>\n",
       "  </thead>\n",
       "  <tbody>\n",
       "    <tr>\n",
       "      <th>0</th>\n",
       "      <td>5.1</td>\n",
       "      <td>3.5</td>\n",
       "      <td>1.4</td>\n",
       "      <td>0.2</td>\n",
       "    </tr>\n",
       "    <tr>\n",
       "      <th>1</th>\n",
       "      <td>4.9</td>\n",
       "      <td>3.0</td>\n",
       "      <td>1.4</td>\n",
       "      <td>0.2</td>\n",
       "    </tr>\n",
       "    <tr>\n",
       "      <th>2</th>\n",
       "      <td>4.7</td>\n",
       "      <td>3.2</td>\n",
       "      <td>1.3</td>\n",
       "      <td>0.2</td>\n",
       "    </tr>\n",
       "    <tr>\n",
       "      <th>3</th>\n",
       "      <td>4.6</td>\n",
       "      <td>3.1</td>\n",
       "      <td>1.5</td>\n",
       "      <td>0.2</td>\n",
       "    </tr>\n",
       "    <tr>\n",
       "      <th>4</th>\n",
       "      <td>5.0</td>\n",
       "      <td>3.6</td>\n",
       "      <td>1.4</td>\n",
       "      <td>0.2</td>\n",
       "    </tr>\n",
       "  </tbody>\n",
       "</table>\n",
       "</div>"
      ],
      "text/plain": [
       "   SepalLengthCm  SepalWidthCm  PetalLengthCm  PetalWidthCm\n",
       "0            5.1           3.5            1.4           0.2\n",
       "1            4.9           3.0            1.4           0.2\n",
       "2            4.7           3.2            1.3           0.2\n",
       "3            4.6           3.1            1.5           0.2\n",
       "4            5.0           3.6            1.4           0.2"
      ]
     },
     "execution_count": 5,
     "metadata": {},
     "output_type": "execute_result"
    }
   ],
   "source": [
    "print(f\"Shape of the data: {input_data.shape}\")\n",
    "input_data.head()"
   ]
  },
  {
   "cell_type": "code",
   "execution_count": 20,
   "metadata": {},
   "outputs": [
    {
     "name": "stdout",
     "output_type": "stream",
     "text": [
      "Shape of the target: (150,)\n"
     ]
    },
    {
     "data": {
      "text/plain": [
       "Species\n",
       "Iris-setosa        50\n",
       "Iris-versicolor    50\n",
       "Iris-virginica     50\n",
       "Name: count, dtype: int64"
      ]
     },
     "execution_count": 20,
     "metadata": {},
     "output_type": "execute_result"
    }
   ],
   "source": [
    "targets = targets.astype(\"category\")\n",
    "print(f\"Shape of the target: {targets.shape}\")\n",
    "targets.value_counts(dropna=None)"
   ]
  },
  {
   "cell_type": "markdown",
   "metadata": {},
   "source": [
    "## Create a 2D embedding with t-SNE"
   ]
  },
  {
   "cell_type": "code",
   "execution_count": 25,
   "metadata": {},
   "outputs": [
    {
     "data": {
      "image/png": "[encoded data removed]",
      "text/plain": [
       "<Figure size 640x480 with 2 Axes>"
      ]
     },
     "metadata": {},
     "output_type": "display_data"
    }
   ],
   "source": [
    "embedded_data = sklearn_TSNE(\n",
    "    n_components=2,\n",
    "    n_iter=500,\n",
    "    perplexity=10,\n",
    "    n_jobs=-1,\n",
    ").fit_transform(input_data)\n",
    "\n",
    "embedded_data = pd.DataFrame(embedded_data, columns=[\"tsne_1\", \"tsne_2\"])\n",
    "embedded_data = pd.concat([embedded_data, targets], axis=1)\n",
    "\n",
    "_ = embedded_data.plot.scatter(x=\"tsne_1\", y=\"tsne_2\", c=targets.cat.codes, colormap=\"viridis\")"
   ]
  },
  {
   "cell_type": "markdown",
   "metadata": {},
   "source": [
    "## Explore 2D embeddings"
   ]
  },
  {
   "cell_type": "code",
   "execution_count": null,
   "metadata": {},
   "outputs": [],
   "source": [
    "# import numpy as np\n",
    "# import pandas as pd\n",
    "# import altair as alt\n",
    "\n",
    "\n",
    "# def plot_text(\n",
    "#     embeddings_2d, dataset, color_array=None, color_words=None, disable_warning=True\n",
    "# ):\n",
    "#     # \"\"\"\n",
    "#     # # Make a visualisation to help find clues in text data.\n",
    "\n",
    "#     # # Arguments:\n",
    "#     # #     - `X`: the numeric features, should be a 2D numpy array\n",
    "#     # #     - `texts`: list of text data\n",
    "#     # #     - `color_words`: list of words to highlight\n",
    "#     # #     - `color_array`: an array that represents color for the plot\n",
    "#     # #     - `disable_warning`: disable the standard altair max rows warning\n",
    "#     # # \"\"\"\n",
    "#     if disable_warning:\n",
    "#         alt.data_transformers.disable_max_rows()\n",
    "\n",
    "#     if len(dataset) != embeddings_2d.shape[0]:\n",
    "#         raise ValueError(\n",
    "#             f\"The number of text examples ({len(dataset)}) should match X array ({embeddings_2d.shape[0]}).\"\n",
    "#         )\n",
    "\n",
    "#     df_ = pd.concat([embeddings_2d, dataset], axis=1)\n",
    "\n",
    "#     if color_array is not None:\n",
    "#         if len(color_array) != embeddings_2d.shape[0]:\n",
    "#             raise ValueError(\n",
    "#                 f\"The number of color array ({len(color_array)}) should match X array ({embeddings_2d.shape[0]}).\"\n",
    "#             )\n",
    "#         df_ = df_.assign(color=color_array)\n",
    "\n",
    "#     if color_words:\n",
    "#         df_ = df_.assign(color=\"none\")\n",
    "\n",
    "#         for w in color_words:\n",
    "#             predicate = df_[\"text\"].str.lower().str.contains(w)\n",
    "#             df_ = df_.assign(color=lambda d: np.where(predicate, w, d[\"color\"]))\n",
    "\n",
    "#     brush = alt.selection_interval()\n",
    "\n",
    "#     p1 = (\n",
    "#         alt.Chart(df_)\n",
    "#         .mark_circle(opacity=0.6, size=20)\n",
    "#         .encode(\n",
    "#             x=alt.X(\"x1\", axis=None, scale=alt.Scale(zero=False)),\n",
    "#             y=alt.Y(\"x2\", axis=None, scale=alt.Scale(zero=False)),\n",
    "#             tooltip=[\"text\"],\n",
    "#         )\n",
    "#         .properties(width=350, height=350, title=\"embedding space\")\n",
    "#         .add_params(brush)\n",
    "#     )\n",
    "\n",
    "#     if color_words:\n",
    "#         p1 = (\n",
    "#             alt.Chart(df_)\n",
    "#             .mark_circle(opacity=0.6, size=20)\n",
    "#             .encode(\n",
    "#                 x=alt.X(\"x1\", axis=None, scale=alt.Scale(zero=False)),\n",
    "#                 y=alt.Y(\"x2\", axis=None, scale=alt.Scale(zero=False)),\n",
    "#                 tooltip=[\"text\"],\n",
    "#                 color=alt.Color(\"color\", sort=[\"none\"] + color_words),\n",
    "#             )\n",
    "#             .properties(width=350, height=350, title=\"embedding space\")\n",
    "#             .add_params(brush)\n",
    "#         )\n",
    "\n",
    "#     if color_array is not None:\n",
    "#         p1 = (\n",
    "#             alt.Chart(df_)\n",
    "#             .mark_circle(opacity=0.6, size=20)\n",
    "#             .encode(\n",
    "#                 x=alt.X(\"x1\", axis=None, scale=alt.Scale(zero=False)),\n",
    "#                 y=alt.Y(\"x2\", axis=None, scale=alt.Scale(zero=False)),\n",
    "#                 # tooltip=[\"text\"],\n",
    "#                 color=alt.Color(\"color\"),\n",
    "#             )\n",
    "#             .properties(width=350, height=350, title=\"embedding space\")\n",
    "#             .add_params(brush)\n",
    "#         )\n",
    "\n",
    "#     p2 = (\n",
    "#         alt.Chart(df_)\n",
    "#         .mark_text()\n",
    "#         .encode(\n",
    "#             x=alt.X(\"r\", axis=None),\n",
    "#             y=alt.Y(\"row_number:O\", axis=None),\n",
    "#             text=\"trunc_text:N\",\n",
    "#         )\n",
    "#         .transform_window(row_number=\"row_number()\")\n",
    "#         .transform_filter(brush)\n",
    "#         .transform_window(rank=\"rank(row_number)\")\n",
    "#         .transform_filter(alt.datum.rank < 18)\n",
    "#         .properties(title=\"text\")\n",
    "#     )\n",
    "\n",
    "#     return (p1 | p2).configure_axis(grid=False).configure_view(strokeWidth=0)\n",
    "\n",
    "\n",
    "# # def _single_scatter_chart(df_, idx, brush, title=\"embedding space\"):\n",
    "# #     cols = (\"x1:Q\", \"y1:Q\") if idx == 1 else (\"x2:Q\", \"y2:Q\")\n",
    "# #     return (\n",
    "# #         alt.Chart(df_)\n",
    "# #         .mark_circle(opacity=0.6, size=20)\n",
    "# #         .encode(\n",
    "# #             x=alt.X(cols[0], axis=None, scale=alt.Scale(zero=False)),\n",
    "# #             y=alt.Y(cols[1], axis=None, scale=alt.Scale(zero=False)),\n",
    "# #             color=alt.condition(brush, \"id:O\", alt.value(\"lightgray\"), legend=None),\n",
    "# #             tooltip=[\"text\"],\n",
    "# #         )\n",
    "# #         .properties(width=350, height=350, title=title)\n",
    "# #         .add_params(brush)\n",
    "# #     )\n",
    "\n",
    "\n",
    "# plot_text(embeddings_2d=embedded_data, dataset=full_data)"
   ]
  },
  {
   "cell_type": "code",
   "execution_count": null,
   "metadata": {},
   "outputs": [],
   "source": [
    "# huddler.interactive_plot(embeddings_2d=embedded_data, dataset=full_data)"
   ]
  }
 ],
 "metadata": {
  "kernelspec": {
   "display_name": "clustering",
   "language": "python",
   "name": "python3"
  },
  "language_info": {
   "codemirror_mode": {
    "name": "ipython",
    "version": 3
   },
   "file_extension": ".py",
   "mimetype": "text/x-python",
   "name": "python",
   "nbconvert_exporter": "python",
   "pygments_lexer": "ipython3",
   "version": "3.11.7"
  }
 },
 "nbformat": 4,
 "nbformat_minor": 2
}
